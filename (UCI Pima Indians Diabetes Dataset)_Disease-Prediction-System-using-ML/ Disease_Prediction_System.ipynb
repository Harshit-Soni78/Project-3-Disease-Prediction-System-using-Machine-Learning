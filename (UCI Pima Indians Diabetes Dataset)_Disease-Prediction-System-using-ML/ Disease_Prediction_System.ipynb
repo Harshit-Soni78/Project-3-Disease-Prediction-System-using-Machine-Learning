{
 "cells": [
  {
   "cell_type": "markdown",
   "id": "fad3fcbb",
   "metadata": {},
   "source": [
    "## Task 1: Data Collection\n",
    "*For a disease prediction system, you can use publicly available datasets. A well-known dataset is the Pima Indians Diabetes Dataset, which contains health-related data that can be used for disease prediction.*"
   ]
  },
  {
   "cell_type": "markdown",
   "id": "509fe7b6",
   "metadata": {},
   "source": [
    "### Step 1: Import Libraries"
   ]
  },
  {
   "cell_type": "code",
   "execution_count": null,
   "id": "66b47555",
   "metadata": {},
   "outputs": [],
   "source": [
    "# Download Libraraies\n",
    "!pip install numpy\n",
    "!pip install pandas\n",
    "!pip install matplotlib\n",
    "!pip install seaborn\n",
    "!pip install scikit-learn"
   ]
  },
  {
   "cell_type": "code",
   "execution_count": 4,
   "id": "cfd5ea46-bfec-4ffe-a1c1-510e9169e34f",
   "metadata": {},
   "outputs": [],
   "source": [
    "import pandas as pd\n",
    "import numpy as np\n",
    "import matplotlib.pyplot as plt\n",
    "import seaborn as sns\n",
    "from sklearn.model_selection import train_test_split\n",
    "from sklearn.preprocessing import StandardScaler\n",
    "from sklearn.feature_selection import SelectKBest, chi2"
   ]
  },
  {
   "cell_type": "markdown",
   "id": "9e5fdc42",
   "metadata": {},
   "source": [
    "### Step 2: Load Dataset\n",
    "We will use the Pima Indians Diabetes Dataset from the UCI Machine Learning Repository."
   ]
  },
  {
   "cell_type": "code",
   "execution_count": 5,
   "id": "c5f821f0-fb92-4836-872b-ccb712008e6f",
   "metadata": {},
   "outputs": [
    {
     "data": {
      "text/html": [
       "<div>\n",
       "<style scoped>\n",
       "    .dataframe tbody tr th:only-of-type {\n",
       "        vertical-align: middle;\n",
       "    }\n",
       "\n",
       "    .dataframe tbody tr th {\n",
       "        vertical-align: top;\n",
       "    }\n",
       "\n",
       "    .dataframe thead th {\n",
       "        text-align: right;\n",
       "    }\n",
       "</style>\n",
       "<table border=\"1\" class=\"dataframe\">\n",
       "  <thead>\n",
       "    <tr style=\"text-align: right;\">\n",
       "      <th></th>\n",
       "      <th>Pregnancies</th>\n",
       "      <th>Glucose</th>\n",
       "      <th>BloodPressure</th>\n",
       "      <th>SkinThickness</th>\n",
       "      <th>Insulin</th>\n",
       "      <th>BMI</th>\n",
       "      <th>DiabetesPedigreeFunction</th>\n",
       "      <th>Age</th>\n",
       "      <th>Outcome</th>\n",
       "    </tr>\n",
       "  </thead>\n",
       "  <tbody>\n",
       "    <tr>\n",
       "      <th>0</th>\n",
       "      <td>6</td>\n",
       "      <td>148</td>\n",
       "      <td>72</td>\n",
       "      <td>35</td>\n",
       "      <td>0</td>\n",
       "      <td>33.6</td>\n",
       "      <td>0.627</td>\n",
       "      <td>50</td>\n",
       "      <td>1</td>\n",
       "    </tr>\n",
       "    <tr>\n",
       "      <th>1</th>\n",
       "      <td>1</td>\n",
       "      <td>85</td>\n",
       "      <td>66</td>\n",
       "      <td>29</td>\n",
       "      <td>0</td>\n",
       "      <td>26.6</td>\n",
       "      <td>0.351</td>\n",
       "      <td>31</td>\n",
       "      <td>0</td>\n",
       "    </tr>\n",
       "    <tr>\n",
       "      <th>2</th>\n",
       "      <td>8</td>\n",
       "      <td>183</td>\n",
       "      <td>64</td>\n",
       "      <td>0</td>\n",
       "      <td>0</td>\n",
       "      <td>23.3</td>\n",
       "      <td>0.672</td>\n",
       "      <td>32</td>\n",
       "      <td>1</td>\n",
       "    </tr>\n",
       "    <tr>\n",
       "      <th>3</th>\n",
       "      <td>1</td>\n",
       "      <td>89</td>\n",
       "      <td>66</td>\n",
       "      <td>23</td>\n",
       "      <td>94</td>\n",
       "      <td>28.1</td>\n",
       "      <td>0.167</td>\n",
       "      <td>21</td>\n",
       "      <td>0</td>\n",
       "    </tr>\n",
       "    <tr>\n",
       "      <th>4</th>\n",
       "      <td>0</td>\n",
       "      <td>137</td>\n",
       "      <td>40</td>\n",
       "      <td>35</td>\n",
       "      <td>168</td>\n",
       "      <td>43.1</td>\n",
       "      <td>2.288</td>\n",
       "      <td>33</td>\n",
       "      <td>1</td>\n",
       "    </tr>\n",
       "  </tbody>\n",
       "</table>\n",
       "</div>"
      ],
      "text/plain": [
       "   Pregnancies  Glucose  BloodPressure  SkinThickness  Insulin   BMI  \\\n",
       "0            6      148             72             35        0  33.6   \n",
       "1            1       85             66             29        0  26.6   \n",
       "2            8      183             64              0        0  23.3   \n",
       "3            1       89             66             23       94  28.1   \n",
       "4            0      137             40             35      168  43.1   \n",
       "\n",
       "   DiabetesPedigreeFunction  Age  Outcome  \n",
       "0                     0.627   50        1  \n",
       "1                     0.351   31        0  \n",
       "2                     0.672   32        1  \n",
       "3                     0.167   21        0  \n",
       "4                     2.288   33        1  "
      ]
     },
     "execution_count": 5,
     "metadata": {},
     "output_type": "execute_result"
    }
   ],
   "source": [
    "# URL of the dataset\n",
    "url = \"https://raw.githubusercontent.com/jbrownlee/Datasets/master/pima-indians-diabetes.data.csv\"\n",
    "\n",
    "# Load dataset\n",
    "column_names = ['Pregnancies', 'Glucose', 'BloodPressure', 'SkinThickness', 'Insulin', 'BMI', 'DiabetesPedigreeFunction', 'Age', 'Outcome']\n",
    "data = pd.read_csv(url, names=column_names)\n",
    "\n",
    "# Display the first few rows\n",
    "data.head()"
   ]
  },
  {
   "cell_type": "markdown",
   "id": "7e592526",
   "metadata": {},
   "source": [
    "## Task 2: Data Preprocessing\n",
    "*Data preprocessing involves handling missing values, outliers, and ensuring data quality.*"
   ]
  },
  {
   "cell_type": "markdown",
   "id": "e9f40f49",
   "metadata": {},
   "source": [
    "### Step 1: Handle Missing Values"
   ]
  },
  {
   "cell_type": "code",
   "execution_count": 6,
   "id": "f4757fe5-f8b3-461b-a911-28d363758fa5",
   "metadata": {},
   "outputs": [
    {
     "name": "stderr",
     "output_type": "stream",
     "text": [
      "C:\\Users\\harsh\\AppData\\Local\\Temp\\ipykernel_7596\\3601534749.py:8: FutureWarning: A value is trying to be set on a copy of a DataFrame or Series through chained assignment using an inplace method.\n",
      "The behavior will change in pandas 3.0. This inplace method will never work because the intermediate object on which we are setting values always behaves as a copy.\n",
      "\n",
      "For example, when doing 'df[col].method(value, inplace=True)', try using 'df.method({col: value}, inplace=True)' or df[col] = df[col].method(value) instead, to perform the operation inplace on the original object.\n",
      "\n",
      "\n",
      "  data['Glucose'].fillna(data['Glucose'].mean(), inplace=True)\n",
      "C:\\Users\\harsh\\AppData\\Local\\Temp\\ipykernel_7596\\3601534749.py:9: FutureWarning: A value is trying to be set on a copy of a DataFrame or Series through chained assignment using an inplace method.\n",
      "The behavior will change in pandas 3.0. This inplace method will never work because the intermediate object on which we are setting values always behaves as a copy.\n",
      "\n",
      "For example, when doing 'df[col].method(value, inplace=True)', try using 'df.method({col: value}, inplace=True)' or df[col] = df[col].method(value) instead, to perform the operation inplace on the original object.\n",
      "\n",
      "\n",
      "  data['BloodPressure'].fillna(data['BloodPressure'].mean(), inplace=True)\n",
      "C:\\Users\\harsh\\AppData\\Local\\Temp\\ipykernel_7596\\3601534749.py:10: FutureWarning: A value is trying to be set on a copy of a DataFrame or Series through chained assignment using an inplace method.\n",
      "The behavior will change in pandas 3.0. This inplace method will never work because the intermediate object on which we are setting values always behaves as a copy.\n",
      "\n",
      "For example, when doing 'df[col].method(value, inplace=True)', try using 'df.method({col: value}, inplace=True)' or df[col] = df[col].method(value) instead, to perform the operation inplace on the original object.\n",
      "\n",
      "\n",
      "  data['SkinThickness'].fillna(data['SkinThickness'].median(), inplace=True)\n",
      "C:\\Users\\harsh\\AppData\\Local\\Temp\\ipykernel_7596\\3601534749.py:11: FutureWarning: A value is trying to be set on a copy of a DataFrame or Series through chained assignment using an inplace method.\n",
      "The behavior will change in pandas 3.0. This inplace method will never work because the intermediate object on which we are setting values always behaves as a copy.\n",
      "\n",
      "For example, when doing 'df[col].method(value, inplace=True)', try using 'df.method({col: value}, inplace=True)' or df[col] = df[col].method(value) instead, to perform the operation inplace on the original object.\n",
      "\n",
      "\n",
      "  data['Insulin'].fillna(data['Insulin'].median(), inplace=True)\n",
      "C:\\Users\\harsh\\AppData\\Local\\Temp\\ipykernel_7596\\3601534749.py:12: FutureWarning: A value is trying to be set on a copy of a DataFrame or Series through chained assignment using an inplace method.\n",
      "The behavior will change in pandas 3.0. This inplace method will never work because the intermediate object on which we are setting values always behaves as a copy.\n",
      "\n",
      "For example, when doing 'df[col].method(value, inplace=True)', try using 'df.method({col: value}, inplace=True)' or df[col] = df[col].method(value) instead, to perform the operation inplace on the original object.\n",
      "\n",
      "\n",
      "  data['BMI'].fillna(data['BMI'].mean(), inplace=True)\n"
     ]
    },
    {
     "data": {
      "text/plain": [
       "Pregnancies                 0\n",
       "Glucose                     0\n",
       "BloodPressure               0\n",
       "SkinThickness               0\n",
       "Insulin                     0\n",
       "BMI                         0\n",
       "DiabetesPedigreeFunction    0\n",
       "Age                         0\n",
       "Outcome                     0\n",
       "dtype: int64"
      ]
     },
     "execution_count": 6,
     "metadata": {},
     "output_type": "execute_result"
    }
   ],
   "source": [
    "# Check for missing values\n",
    "data.isnull().sum()\n",
    "\n",
    "# Replace zeros with NaN for columns where zero is not a valid value\n",
    "data[['Glucose', 'BloodPressure', 'SkinThickness', 'Insulin', 'BMI']] = data[['Glucose', 'BloodPressure', 'SkinThickness', 'Insulin', 'BMI']].replace(0, np.nan)\n",
    "\n",
    "# Fill missing values with mean or median\n",
    "data['Glucose'].fillna(data['Glucose'].mean(), inplace=True)\n",
    "data['BloodPressure'].fillna(data['BloodPressure'].mean(), inplace=True)\n",
    "data['SkinThickness'].fillna(data['SkinThickness'].median(), inplace=True)\n",
    "data['Insulin'].fillna(data['Insulin'].median(), inplace=True)\n",
    "data['BMI'].fillna(data['BMI'].mean(), inplace=True)\n",
    "\n",
    "# Check again for missing values\n",
    "data.isnull().sum()"
   ]
  },
  {
   "cell_type": "markdown",
   "id": "ed8bfc07",
   "metadata": {},
   "source": [
    "### Step 2: Normalize/Standardize Features"
   ]
  },
  {
   "cell_type": "code",
   "execution_count": 7,
   "id": "07d06c69-e508-4722-8537-d1f96fbdb9af",
   "metadata": {},
   "outputs": [
    {
     "data": {
      "text/html": [
       "<div>\n",
       "<style scoped>\n",
       "    .dataframe tbody tr th:only-of-type {\n",
       "        vertical-align: middle;\n",
       "    }\n",
       "\n",
       "    .dataframe tbody tr th {\n",
       "        vertical-align: top;\n",
       "    }\n",
       "\n",
       "    .dataframe thead th {\n",
       "        text-align: right;\n",
       "    }\n",
       "</style>\n",
       "<table border=\"1\" class=\"dataframe\">\n",
       "  <thead>\n",
       "    <tr style=\"text-align: right;\">\n",
       "      <th></th>\n",
       "      <th>Pregnancies</th>\n",
       "      <th>Glucose</th>\n",
       "      <th>BloodPressure</th>\n",
       "      <th>SkinThickness</th>\n",
       "      <th>Insulin</th>\n",
       "      <th>BMI</th>\n",
       "      <th>DiabetesPedigreeFunction</th>\n",
       "      <th>Age</th>\n",
       "    </tr>\n",
       "  </thead>\n",
       "  <tbody>\n",
       "    <tr>\n",
       "      <th>0</th>\n",
       "      <td>0.639947</td>\n",
       "      <td>0.865108</td>\n",
       "      <td>-0.033518</td>\n",
       "      <td>0.670643</td>\n",
       "      <td>-0.181541</td>\n",
       "      <td>0.166292</td>\n",
       "      <td>0.468492</td>\n",
       "      <td>1.425995</td>\n",
       "    </tr>\n",
       "    <tr>\n",
       "      <th>1</th>\n",
       "      <td>-0.844885</td>\n",
       "      <td>-1.206162</td>\n",
       "      <td>-0.529859</td>\n",
       "      <td>-0.012301</td>\n",
       "      <td>-0.181541</td>\n",
       "      <td>-0.852531</td>\n",
       "      <td>-0.365061</td>\n",
       "      <td>-0.190672</td>\n",
       "    </tr>\n",
       "    <tr>\n",
       "      <th>2</th>\n",
       "      <td>1.233880</td>\n",
       "      <td>2.015813</td>\n",
       "      <td>-0.695306</td>\n",
       "      <td>-0.012301</td>\n",
       "      <td>-0.181541</td>\n",
       "      <td>-1.332833</td>\n",
       "      <td>0.604397</td>\n",
       "      <td>-0.105584</td>\n",
       "    </tr>\n",
       "    <tr>\n",
       "      <th>3</th>\n",
       "      <td>-0.844885</td>\n",
       "      <td>-1.074652</td>\n",
       "      <td>-0.529859</td>\n",
       "      <td>-0.695245</td>\n",
       "      <td>-0.540642</td>\n",
       "      <td>-0.634212</td>\n",
       "      <td>-0.920763</td>\n",
       "      <td>-1.041549</td>\n",
       "    </tr>\n",
       "    <tr>\n",
       "      <th>4</th>\n",
       "      <td>-1.141852</td>\n",
       "      <td>0.503458</td>\n",
       "      <td>-2.680669</td>\n",
       "      <td>0.670643</td>\n",
       "      <td>0.316566</td>\n",
       "      <td>1.548980</td>\n",
       "      <td>5.484909</td>\n",
       "      <td>-0.020496</td>\n",
       "    </tr>\n",
       "  </tbody>\n",
       "</table>\n",
       "</div>"
      ],
      "text/plain": [
       "   Pregnancies   Glucose  BloodPressure  SkinThickness   Insulin       BMI  \\\n",
       "0     0.639947  0.865108      -0.033518       0.670643 -0.181541  0.166292   \n",
       "1    -0.844885 -1.206162      -0.529859      -0.012301 -0.181541 -0.852531   \n",
       "2     1.233880  2.015813      -0.695306      -0.012301 -0.181541 -1.332833   \n",
       "3    -0.844885 -1.074652      -0.529859      -0.695245 -0.540642 -0.634212   \n",
       "4    -1.141852  0.503458      -2.680669       0.670643  0.316566  1.548980   \n",
       "\n",
       "   DiabetesPedigreeFunction       Age  \n",
       "0                  0.468492  1.425995  \n",
       "1                 -0.365061 -0.190672  \n",
       "2                  0.604397 -0.105584  \n",
       "3                 -0.920763 -1.041549  \n",
       "4                  5.484909 -0.020496  "
      ]
     },
     "execution_count": 7,
     "metadata": {},
     "output_type": "execute_result"
    }
   ],
   "source": [
    "# Separate features and target variable\n",
    "X = data.drop('Outcome', axis=1)\n",
    "y = data['Outcome']\n",
    "\n",
    "# Standardize features\n",
    "scaler = StandardScaler()\n",
    "X_scaled = scaler.fit_transform(X)\n",
    "\n",
    "# Convert to DataFrame for easier handling\n",
    "X_scaled = pd.DataFrame(X_scaled, columns=X.columns)\n",
    "X_scaled.head()"
   ]
  },
  {
   "cell_type": "markdown",
   "id": "ffc41ed0",
   "metadata": {},
   "source": [
    "## Task 3: Feature Selection\n",
    "*Feature selection involves selecting the most influential variables for disease prediction.*"
   ]
  },
  {
   "cell_type": "code",
   "execution_count": 9,
   "id": "f1db0f60-a84b-4260-ab74-943e1c4adeb7",
   "metadata": {},
   "outputs": [
    {
     "name": "stdout",
     "output_type": "stream",
     "text": [
      "Selected Features:\n",
      " 1          Glucose\n",
      "5              BMI\n",
      "7              Age\n",
      "0      Pregnancies\n",
      "3    SkinThickness\n",
      "Name: Feature, dtype: object\n"
     ]
    }
   ],
   "source": [
    "from sklearn.feature_selection import SelectKBest, f_classif\n",
    "\n",
    "# Use SelectKBest to select top features with a suitable scoring function\n",
    "select_k_best = SelectKBest(score_func=f_classif, k=5)\n",
    "fit = select_k_best.fit(X_scaled, y)\n",
    "\n",
    "# Get scores for each feature\n",
    "feature_scores = pd.DataFrame({'Feature': X.columns, 'Score': fit.scores_})\n",
    "feature_scores = feature_scores.sort_values(by='Score', ascending=False)\n",
    "\n",
    "# Select top 5 features\n",
    "selected_features = feature_scores['Feature'][:5]\n",
    "\n",
    "# Display selected features\n",
    "print(\"Selected Features:\\n\", selected_features)\n"
   ]
  },
  {
   "cell_type": "markdown",
   "id": "4caa12b9",
   "metadata": {},
   "source": [
    "## Task 4: Model Development\n",
    "*We will develop several machine learning models and evaluate their performance.*"
   ]
  },
  {
   "cell_type": "markdown",
   "id": "c7057dad",
   "metadata": {},
   "source": [
    "### Step 1: Import Libraries"
   ]
  },
  {
   "cell_type": "code",
   "execution_count": 10,
   "id": "78684f9f-f53e-48d9-aefa-51a4c157a05e",
   "metadata": {},
   "outputs": [],
   "source": [
    "from sklearn.linear_model import LogisticRegression\n",
    "from sklearn.tree import DecisionTreeClassifier\n",
    "from sklearn.ensemble import RandomForestClassifier\n",
    "from sklearn.svm import SVC\n",
    "from sklearn.metrics import accuracy_score, precision_score, recall_score, f1_score"
   ]
  },
  {
   "cell_type": "markdown",
   "id": "6e7705ba",
   "metadata": {},
   "source": [
    "### Step 2: Prepare Data with Selected Features"
   ]
  },
  {
   "cell_type": "code",
   "execution_count": 11,
   "id": "52cd1961-544d-4cce-91af-3e4587b53ccd",
   "metadata": {},
   "outputs": [],
   "source": [
    "# Prepare data with selected features\n",
    "X_selected = X_scaled[selected_features]"
   ]
  },
  {
   "cell_type": "markdown",
   "id": "c37e057a",
   "metadata": {},
   "source": [
    "### Step 3: Split Data"
   ]
  },
  {
   "cell_type": "code",
   "execution_count": 12,
   "id": "1c22b447-3ce3-430f-9f6d-96dd8e9b6bec",
   "metadata": {},
   "outputs": [],
   "source": [
    "# Split data into training and testing sets\n",
    "X_train, X_test, y_train, y_test = train_test_split(X_selected, y, test_size=0.2, random_state=42)"
   ]
  },
  {
   "cell_type": "markdown",
   "id": "dc31ba82",
   "metadata": {},
   "source": [
    "### Step 4: Train Models"
   ]
  },
  {
   "cell_type": "code",
   "execution_count": 13,
   "id": "05bed966-6a05-4c0c-95a0-15ad718e3e5a",
   "metadata": {},
   "outputs": [
    {
     "data": {
      "text/html": [
       "<div>\n",
       "<style scoped>\n",
       "    .dataframe tbody tr th:only-of-type {\n",
       "        vertical-align: middle;\n",
       "    }\n",
       "\n",
       "    .dataframe tbody tr th {\n",
       "        vertical-align: top;\n",
       "    }\n",
       "\n",
       "    .dataframe thead th {\n",
       "        text-align: right;\n",
       "    }\n",
       "</style>\n",
       "<table border=\"1\" class=\"dataframe\">\n",
       "  <thead>\n",
       "    <tr style=\"text-align: right;\">\n",
       "      <th></th>\n",
       "      <th>Accuracy</th>\n",
       "      <th>Precision</th>\n",
       "      <th>Recall</th>\n",
       "      <th>F1 Score</th>\n",
       "    </tr>\n",
       "  </thead>\n",
       "  <tbody>\n",
       "    <tr>\n",
       "      <th>Logistic Regression</th>\n",
       "      <td>0.753247</td>\n",
       "      <td>0.660377</td>\n",
       "      <td>0.636364</td>\n",
       "      <td>0.648148</td>\n",
       "    </tr>\n",
       "    <tr>\n",
       "      <th>Decision Tree</th>\n",
       "      <td>0.675325</td>\n",
       "      <td>0.545455</td>\n",
       "      <td>0.545455</td>\n",
       "      <td>0.545455</td>\n",
       "    </tr>\n",
       "    <tr>\n",
       "      <th>Random Forest</th>\n",
       "      <td>0.746753</td>\n",
       "      <td>0.648148</td>\n",
       "      <td>0.636364</td>\n",
       "      <td>0.642202</td>\n",
       "    </tr>\n",
       "    <tr>\n",
       "      <th>Support Vector Machine</th>\n",
       "      <td>0.740260</td>\n",
       "      <td>0.653061</td>\n",
       "      <td>0.581818</td>\n",
       "      <td>0.615385</td>\n",
       "    </tr>\n",
       "  </tbody>\n",
       "</table>\n",
       "</div>"
      ],
      "text/plain": [
       "                        Accuracy  Precision    Recall  F1 Score\n",
       "Logistic Regression     0.753247   0.660377  0.636364  0.648148\n",
       "Decision Tree           0.675325   0.545455  0.545455  0.545455\n",
       "Random Forest           0.746753   0.648148  0.636364  0.642202\n",
       "Support Vector Machine  0.740260   0.653061  0.581818  0.615385"
      ]
     },
     "execution_count": 13,
     "metadata": {},
     "output_type": "execute_result"
    }
   ],
   "source": [
    "# Initialize models\n",
    "models = {\n",
    "    \"Logistic Regression\": LogisticRegression(),\n",
    "    \"Decision Tree\": DecisionTreeClassifier(),\n",
    "    \"Random Forest\": RandomForestClassifier(),\n",
    "    \"Support Vector Machine\": SVC()\n",
    "}\n",
    "\n",
    "# Train models and evaluate performance\n",
    "results = {}\n",
    "\n",
    "for name, model in models.items():\n",
    "    model.fit(X_train, y_train)\n",
    "    y_pred = model.predict(X_test)\n",
    "    results[name] = {\n",
    "        \"Accuracy\": accuracy_score(y_test, y_pred),\n",
    "        \"Precision\": precision_score(y_test, y_pred),\n",
    "        \"Recall\": recall_score(y_test, y_pred),\n",
    "        \"F1 Score\": f1_score(y_test, y_pred)\n",
    "    }\n",
    "\n",
    "# Display results\n",
    "results_df = pd.DataFrame(results).T\n",
    "results_df"
   ]
  },
  {
   "cell_type": "markdown",
   "id": "c9c99a0b",
   "metadata": {},
   "source": [
    "## Task 5: Cross-Validation"
   ]
  },
  {
   "cell_type": "markdown",
   "id": "c8845766",
   "metadata": {},
   "source": [
    "### Step 1: Import Cross-Validation Libraries"
   ]
  },
  {
   "cell_type": "code",
   "execution_count": 14,
   "id": "05e5c576-c7df-4bb0-af76-755227716c1c",
   "metadata": {},
   "outputs": [],
   "source": [
    "from sklearn.model_selection import cross_val_score"
   ]
  },
  {
   "cell_type": "markdown",
   "id": "7cf29561",
   "metadata": {},
   "source": [
    "### Step 2: Perform Cross-Validation"
   ]
  },
  {
   "cell_type": "code",
   "execution_count": 15,
   "id": "ccaea7d5-ba44-4802-9866-1d54eba1a547",
   "metadata": {},
   "outputs": [
    {
     "data": {
      "text/html": [
       "<div>\n",
       "<style scoped>\n",
       "    .dataframe tbody tr th:only-of-type {\n",
       "        vertical-align: middle;\n",
       "    }\n",
       "\n",
       "    .dataframe tbody tr th {\n",
       "        vertical-align: top;\n",
       "    }\n",
       "\n",
       "    .dataframe thead th {\n",
       "        text-align: right;\n",
       "    }\n",
       "</style>\n",
       "<table border=\"1\" class=\"dataframe\">\n",
       "  <thead>\n",
       "    <tr style=\"text-align: right;\">\n",
       "      <th></th>\n",
       "      <th>Cross-Validation Accuracy</th>\n",
       "    </tr>\n",
       "  </thead>\n",
       "  <tbody>\n",
       "    <tr>\n",
       "      <th>Logistic Regression</th>\n",
       "      <td>0.772167</td>\n",
       "    </tr>\n",
       "    <tr>\n",
       "      <th>Decision Tree</th>\n",
       "      <td>0.682336</td>\n",
       "    </tr>\n",
       "    <tr>\n",
       "      <th>Random Forest</th>\n",
       "      <td>0.747441</td>\n",
       "    </tr>\n",
       "    <tr>\n",
       "      <th>Support Vector Machine</th>\n",
       "      <td>0.747449</td>\n",
       "    </tr>\n",
       "  </tbody>\n",
       "</table>\n",
       "</div>"
      ],
      "text/plain": [
       "                        Cross-Validation Accuracy\n",
       "Logistic Regression                      0.772167\n",
       "Decision Tree                            0.682336\n",
       "Random Forest                            0.747441\n",
       "Support Vector Machine                   0.747449"
      ]
     },
     "execution_count": 15,
     "metadata": {},
     "output_type": "execute_result"
    }
   ],
   "source": [
    "# Perform cross-validation for each model\n",
    "cross_val_results = {}\n",
    "\n",
    "for name, model in models.items():\n",
    "    cv_scores = cross_val_score(model, X_selected, y, cv=5, scoring='accuracy')\n",
    "    cross_val_results[name] = {\n",
    "        \"Cross-Validation Accuracy\": np.mean(cv_scores)\n",
    "    }\n",
    "\n",
    "# Display cross-validation results\n",
    "cross_val_results_df = pd.DataFrame(cross_val_results).T\n",
    "cross_val_results_df"
   ]
  },
  {
   "cell_type": "markdown",
   "id": "50b4e083",
   "metadata": {},
   "source": [
    "## Task 6: Hyperparameter Tuning"
   ]
  },
  {
   "cell_type": "markdown",
   "id": "cfc4aafd",
   "metadata": {},
   "source": [
    "### Step 1: Import Hyperparameter Tuning Libraries"
   ]
  },
  {
   "cell_type": "code",
   "execution_count": 16,
   "id": "01050a0d-dffd-48f1-bdc1-ac79bed618a2",
   "metadata": {},
   "outputs": [],
   "source": [
    "from sklearn.model_selection import GridSearchCV"
   ]
  },
  {
   "cell_type": "markdown",
   "id": "ed5f03df",
   "metadata": {},
   "source": [
    "### Step 2: Hyperparameter Tuning for Random Forest (as an example)"
   ]
  },
  {
   "cell_type": "code",
   "execution_count": 17,
   "id": "4c7f0cf0-efd8-4c1d-a78f-c55c87f59c33",
   "metadata": {},
   "outputs": [
    {
     "name": "stdout",
     "output_type": "stream",
     "text": [
      "Best Parameters:  {'max_depth': 10, 'min_samples_leaf': 2, 'min_samples_split': 10, 'n_estimators': 50}\n",
      "Best Cross-Validation Accuracy:  0.7720645075303212\n"
     ]
    }
   ],
   "source": [
    "# Define parameter grid for Random Forest\n",
    "param_grid = {\n",
    "    'n_estimators': [50, 100, 200],\n",
    "    'max_depth': [None, 10, 20, 30],\n",
    "    'min_samples_split': [2, 5, 10],\n",
    "    'min_samples_leaf': [1, 2, 4]\n",
    "}\n",
    "\n",
    "# Initialize GridSearchCV\n",
    "grid_search = GridSearchCV(estimator=RandomForestClassifier(), param_grid=param_grid, cv=5, scoring='accuracy', n_jobs=-1)\n",
    "\n",
    "# Fit GridSearchCV\n",
    "grid_search.fit(X_train, y_train)\n",
    "\n",
    "# Get best parameters and best score\n",
    "best_params = grid_search.best_params_\n",
    "best_score = grid_search.best_score_\n",
    "\n",
    "print(\"Best Parameters: \", best_params)\n",
    "print(\"Best Cross-Validation Accuracy: \", best_score)"
   ]
  },
  {
   "cell_type": "markdown",
   "id": "c8b9aee5",
   "metadata": {},
   "source": [
    "## Task 7: Model Interpretability\n",
    "*For model interpretability, we will use SHAP (SHapley Additive exPlanations) values to explain the output of the Random Forest model.*"
   ]
  },
  {
   "cell_type": "markdown",
   "id": "f7489159",
   "metadata": {},
   "source": [
    "### Step 1: Install SHAP"
   ]
  },
  {
   "cell_type": "code",
   "execution_count": 18,
   "id": "29d3a3a8",
   "metadata": {},
   "outputs": [
    {
     "name": "stdout",
     "output_type": "stream",
     "text": [
      "Requirement already satisfied: shap in c:\\users\\harsh\\appdata\\local\\programs\\python\\python312\\lib\\site-packages (0.45.1)\n",
      "Requirement already satisfied: numpy in c:\\users\\harsh\\appdata\\local\\programs\\python\\python312\\lib\\site-packages (from shap) (1.26.4)\n",
      "Requirement already satisfied: scipy in c:\\users\\harsh\\appdata\\local\\programs\\python\\python312\\lib\\site-packages (from shap) (1.13.0)\n",
      "Requirement already satisfied: scikit-learn in c:\\users\\harsh\\appdata\\local\\programs\\python\\python312\\lib\\site-packages (from shap) (1.4.2)\n",
      "Requirement already satisfied: pandas in c:\\users\\harsh\\appdata\\local\\programs\\python\\python312\\lib\\site-packages (from shap) (2.2.2)\n",
      "Requirement already satisfied: tqdm>=4.27.0 in c:\\users\\harsh\\appdata\\local\\programs\\python\\python312\\lib\\site-packages (from shap) (4.66.4)\n",
      "Requirement already satisfied: packaging>20.9 in c:\\users\\harsh\\appdata\\local\\programs\\python\\python312\\lib\\site-packages (from shap) (24.0)\n",
      "Requirement already satisfied: slicer==0.0.8 in c:\\users\\harsh\\appdata\\local\\programs\\python\\python312\\lib\\site-packages (from shap) (0.0.8)\n",
      "Requirement already satisfied: numba in c:\\users\\harsh\\appdata\\local\\programs\\python\\python312\\lib\\site-packages (from shap) (0.59.1)\n",
      "Requirement already satisfied: cloudpickle in c:\\users\\harsh\\appdata\\local\\programs\\python\\python312\\lib\\site-packages (from shap) (3.0.0)\n",
      "Requirement already satisfied: colorama in c:\\users\\harsh\\appdata\\local\\programs\\python\\python312\\lib\\site-packages (from tqdm>=4.27.0->shap) (0.4.6)\n",
      "Requirement already satisfied: llvmlite<0.43,>=0.42.0dev0 in c:\\users\\harsh\\appdata\\local\\programs\\python\\python312\\lib\\site-packages (from numba->shap) (0.42.0)\n",
      "Requirement already satisfied: python-dateutil>=2.8.2 in c:\\users\\harsh\\appdata\\local\\programs\\python\\python312\\lib\\site-packages (from pandas->shap) (2.9.0.post0)\n",
      "Requirement already satisfied: pytz>=2020.1 in c:\\users\\harsh\\appdata\\local\\programs\\python\\python312\\lib\\site-packages (from pandas->shap) (2024.1)\n",
      "Requirement already satisfied: tzdata>=2022.7 in c:\\users\\harsh\\appdata\\local\\programs\\python\\python312\\lib\\site-packages (from pandas->shap) (2024.1)\n",
      "Requirement already satisfied: joblib>=1.2.0 in c:\\users\\harsh\\appdata\\local\\programs\\python\\python312\\lib\\site-packages (from scikit-learn->shap) (1.4.2)\n",
      "Requirement already satisfied: threadpoolctl>=2.0.0 in c:\\users\\harsh\\appdata\\local\\programs\\python\\python312\\lib\\site-packages (from scikit-learn->shap) (3.5.0)\n",
      "Requirement already satisfied: six>=1.5 in c:\\users\\harsh\\appdata\\local\\programs\\python\\python312\\lib\\site-packages (from python-dateutil>=2.8.2->pandas->shap) (1.16.0)\n"
     ]
    }
   ],
   "source": [
    "!pip install shap"
   ]
  },
  {
   "cell_type": "markdown",
   "id": "f00533c1",
   "metadata": {},
   "source": [
    "### Step 2: Import SHAP and Create Explanations"
   ]
  },
  {
   "cell_type": "code",
   "execution_count": 23,
   "id": "9f3b4d4e-23a8-4e14-9969-226a805bd4d0",
   "metadata": {},
   "outputs": [
    {
     "data": {
      "image/png": "[encoded data removed]",
      "text/plain": [
       "<Figure size 1150x660 with 2 Axes>"
      ]
     },
     "metadata": {},
     "output_type": "display_data"
    }
   ],
   "source": [
    "import shap\n",
    "\n",
    "# Initialize SHAP explainer\n",
    "explainer = shap.TreeExplainer(grid_search.best_estimator_)\n",
    "\n",
    "# Calculate SHAP values for all classes\n",
    "shap_values = explainer.shap_values(X_test)\n",
    "\n",
    "# Verify the structure of SHAP values and plot SHAP summary plot\n",
    "if isinstance(shap_values, list) and len(shap_values) == 2:\n",
    "    # Binary classification case\n",
    "    shap.summary_plot(shap_values[1], X_test, feature_names=selected_features)\n",
    "else:\n",
    "    # Multi-class case or single array\n",
    "    shap.summary_plot(shap_values, X_test, feature_names=selected_features)\n"
   ]
  },
  {
   "cell_type": "markdown",
   "id": "fd2e87f2",
   "metadata": {},
   "source": [
    "## Task 8: User Interface\n",
    "*We'll use Streamlit, a Python library, to create a simple user interface where users can input their health data and get predictions.*"
   ]
  },
  {
   "cell_type": "markdown",
   "id": "ee9622ef",
   "metadata": {},
   "source": [
    "### Step 1: Install Streamlit"
   ]
  },
  {
   "cell_type": "code",
   "execution_count": 24,
   "id": "5d6395a5",
   "metadata": {},
   "outputs": [],
   "source": [
    "# !pip install streamlit"
   ]
  },
  {
   "cell_type": "markdown",
   "id": "0890e45a",
   "metadata": {},
   "source": [
    "### Step 2: Create Streamlit App\n",
    "*Create a new Python file app.py for the Streamlit app.*"
   ]
  },
  {
   "cell_type": "markdown",
   "id": "529c832a",
   "metadata": {},
   "source": [
    "<!-- import streamlit as st\n",
    "import pandas as pd\n",
    "import numpy as np\n",
    "from sklearn.preprocessing import StandardScaler\n",
    "from sklearn.ensemble import RandomForestClassifier\n",
    "\n",
    "# Load the trained model (ensure this model is saved previously)\n",
    "import joblib\n",
    "model = joblib.load(\"random_forest_model.pkl\")\n",
    "\n",
    "# Feature list\n",
    "features = ['Pregnancies', 'Glucose', 'BloodPressure', 'SkinThickness', 'Insulin', 'BMI', 'DiabetesPedigreeFunction', 'Age']\n",
    "\n",
    "# Streamlit app\n",
    "st.title(\"Disease Prediction System\")\n",
    "\n",
    "# User input\n",
    "def user_input_features():\n",
    "    data = {}\n",
    "    for feature in features:\n",
    "        data[feature] = st.sidebar.number_input(feature, value=0)\n",
    "    return pd.DataFrame(data, index=[0])\n",
    "\n",
    "input_df = user_input_features()\n",
    "\n",
    "# Scale input\n",
    "scaler = StandardScaler()\n",
    "input_scaled = scaler.fit_transform(input_df)\n",
    "\n",
    "# Predict\n",
    "prediction = model.predict(input_scaled)\n",
    "prediction_proba = model.predict_proba(input_scaled)\n",
    "\n",
    "st.subheader('Prediction')\n",
    "st.write('Diabetic' if prediction[0] == 1 else 'Non-Diabetic')\n",
    "\n",
    "st.subheader('Prediction Probability')\n",
    "st.write(prediction_proba) -->"
   ]
  },
  {
   "cell_type": "markdown",
   "id": "741c9815",
   "metadata": {},
   "source": [
    "#### Step 3: Run Streamlit App"
   ]
  },
  {
   "cell_type": "code",
   "execution_count": 25,
   "id": "69d3feb9",
   "metadata": {},
   "outputs": [],
   "source": [
    "# streamlit run app.py"
   ]
  },
  {
   "cell_type": "markdown",
   "id": "ce7531bc",
   "metadata": {},
   "source": [
    "## Task 9: Integration with Electronic Health Records (EHR)\n",
    "*Integrating with EHR systems can be complex and depends on the specific EHR software being used. Here's a general guide on how you might approach this integration:*"
   ]
  },
  {
   "cell_type": "markdown",
   "id": "e0597b39",
   "metadata": {},
   "source": [
    "### Step 1: Understand the EHR API\n",
    "*Most modern EHR systems provide APIs to interact with their data. You need to refer to the documentation of the EHR system you're working with.*"
   ]
  },
  {
   "cell_type": "markdown",
   "id": "3f44c318",
   "metadata": {},
   "source": [
    "### Step 2: Install Required Libraries\n",
    "*You might need libraries such as requests for API interactions.*"
   ]
  },
  {
   "cell_type": "code",
   "execution_count": 26,
   "id": "f7992a47",
   "metadata": {},
   "outputs": [],
   "source": [
    "# !pip install requests"
   ]
  },
  {
   "cell_type": "markdown",
   "id": "bde5e8a7",
   "metadata": {},
   "source": [
    "### Step 3: Example Integration Code\n",
    "*Here's a hypothetical example of how you might integrate with an EHR system using an API. This example assumes the EHR system has an API endpoint for retrieving and sending patient data.*"
   ]
  },
  {
   "cell_type": "markdown",
   "id": "41c918e4",
   "metadata": {},
   "source": [
    "<!-- import requests\n",
    "\n",
    "# EHR API endpoint and credentials (these are placeholders and should be replaced with actual values)\n",
    "ehr_api_url = \"https://api.ehrsystem.com/patients\"\n",
    "api_key = \"your_api_key\"\n",
    "\n",
    "# Function to get patient data from EHR\n",
    "def get_patient_data(patient_id):\n",
    "    response = requests.get(f\"{ehr_api_url}/{patient_id}\", headers={\"Authorization\": f\"Bearer {api_key}\"})\n",
    "    return response.json()\n",
    "\n",
    "# Function to send prediction result to EHR\n",
    "def send_prediction_to_ehr(patient_id, prediction):\n",
    "    data = {\"patient_id\": patient_id, \"prediction\": prediction}\n",
    "    response = requests.post(f\"{ehr_api_url}/{patient_id}/predictions\", json=data, headers={\"Authorization\": f\"Bearer {api_key}\"})\n",
    "    return response.status_code\n",
    "\n",
    "# Example usage\n",
    "patient_id = \"12345\"\n",
    "patient_data = get_patient_data(patient_id)\n",
    "\n",
    "# Process patient_data as needed and make prediction\n",
    "# ...\n",
    "\n",
    "# Send prediction result back to EHR\n",
    "prediction = {\"diabetes\": True, \"probability\": 0.85}\n",
    "send_prediction_to_ehr(patient_id, prediction) -->\n"
   ]
  },
  {
   "cell_type": "markdown",
   "id": "9bbc2da9",
   "metadata": {},
   "source": [
    "<!-- import requests\n",
    "\n",
    "# EHR API endpoint and credentials (these are placeholders and should be replaced with actual values)\n",
    "ehr_api_url = \"https://api.ehrsystem.com/patients\"\n",
    "api_key = \"your_api_key\"\n",
    "\n",
    "# Function to get patient data from EHR\n",
    "def get_patient_data(patient_id):\n",
    "    response = requests.get(f\"{ehr_api_url}/{patient_id}\", headers={\"Authorization\": f\"Bearer {api_key}\"})\n",
    "    return response.json()\n",
    "\n",
    "# Function to send prediction result to EHR\n",
    "def send_prediction_to_ehr(patient_id, prediction):\n",
    "    data = {\"patient_id\": patient_id, \"prediction\": prediction}\n",
    "    response = requests.post(f\"{ehr_api_url}/{patient_id}/predictions\", json=data, headers={\"Authorization\": f\"Bearer {api_key}\"})\n",
    "    return response.status_code\n",
    "\n",
    "# Example usage\n",
    "patient_id = \"12345\"\n",
    "patient_data = get_patient_data(patient_id)\n",
    "\n",
    "# Process patient_data as needed and make prediction\n",
    "# ...\n",
    "\n",
    "# Send prediction result back to EHR\n",
    "prediction = {\"diabetes\": True, \"probability\": 0.85}\n",
    "send_prediction_to_ehr(patient_id, prediction) -->"
   ]
  },
  {
   "cell_type": "markdown",
   "id": "82b77c26",
   "metadata": {},
   "source": [
    "## Task 10: Documentation\n",
    "*Documentation is essential for understanding the project workflow, methods, and how to use the system. Here’s a structured outline for your documentation:*"
   ]
  },
  {
   "cell_type": "markdown",
   "id": "f3adbc37",
   "metadata": {},
   "source": [
    "#### 1. Introduction\n",
    "**Project Title:** *Disease Prediction System using Machine Learning\n",
    "Description: An intelligent system to predict the likelihood of a person having a particular disease based on various health-related features using machine learning algorithms.*\n",
    "\n",
    "#### 2. Project Objectives\n",
    "<li> <i>Data Collection</i> </li>\n",
    "<li> <i>Data Preprocessing</i> </li>\n",
    "<li> <i>Feature Selection</i> </li>\n",
    "<li> <i>Model Development</i> </li>\n",
    "<li> <i>Cross-Validation</i> </li>\n",
    "<li> <i>Hyperparameter Tuning</i> </li>\n",
    "<li> <i>Model Interpretability (optional)</i> </li>\n",
    "<li> <i>User Interface (optional)</i> </li>\n",
    "<li> <i>Integration with Electronic Health Records (EHR) (optional)</i> </li>\n",
    "<li> <i>Documentation (optional)</i> </li>\n",
    "<li> <i>Validation and Testing</i> </li>\n",
    "\n",
    "#### 3. Data Collection\n",
    "**Dataset:** *Pima Indians Diabetes Dataset from the UCI Machine Learning Repository.\n",
    "Features: Pregnancies, Glucose, BloodPressure, SkinThickness, Insulin, BMI, DiabetesPedigreeFunction, Age, Outcome.*\n",
    "\n",
    "#### 4. Data Preprocessing\n",
    "**Missing Values:** *Handled by replacing zeros with NaN and filling NaN with mean or median.*\n",
    "**Normalization/Standardization:** *Standardized features using StandardScaler.*\n",
    "\n",
    "#### 5. Feature Selection\n",
    "**Technique:** *Used SelectKBest with chi2 scoring function to select the top 5 features.*\n",
    "\n",
    "#### 6. Model Development\n",
    "**Algorithms:** *Logistic Regression, Decision Tree, Random Forest, Support Vector Machine (SVM).*\n",
    "**Performance Metrics:** *Accuracy, Precision, Recall, F1 Score.*\n",
    "\n",
    "#### 7. Cross-Validation\n",
    "**Method:** *5-fold cross-validation to evaluate model performance.*\n",
    "\n",
    "#### 8. Hyperparameter Tuning\n",
    "**Model:** *Random Forest.*\n",
    "**Method:** *GridSearchCV for parameter optimization.*\n",
    "\n",
    "#### 9. Model Interpretability\n",
    "**Tool:** *SHAP (SHapley Additive exPlanations) for explaining model predictions.*\n",
    "\n",
    "#### 10. User Interface\n",
    "**Tool:** *Streamlit for a user-friendly web interface.*\n",
    "\n",
    "#### 11. Integration with EHR\n",
    "**Method:** *API interactions to retrieve and send patient data.*\n",
    "\n",
    "#### 12. Validation and Testing\n",
    "**Method:** *Extensive testing to ensure accuracy, reliability, and robustness.*\n",
    "**Metrics:** *Accuracy, Precision, Recall, F1 Score on test data.*"
   ]
  },
  {
   "cell_type": "markdown",
   "id": "ca18fe4b",
   "metadata": {},
   "source": [
    "## Task 11: Validation and Testing\n",
    "*Validation and testing ensure that the model is reliable and performs well on unseen data.*"
   ]
  },
  {
   "cell_type": "markdown",
   "id": "6b7e0826",
   "metadata": {},
   "source": [
    "### Step 1: Split Data into Training and Testing Sets\n",
    "*This step was completed earlier during the model development phase.*"
   ]
  },
  {
   "cell_type": "markdown",
   "id": "c4c238b2",
   "metadata": {},
   "source": [
    "### Step 2: Validate and Test the Model"
   ]
  },
  {
   "cell_type": "code",
   "execution_count": 27,
   "id": "1524b266",
   "metadata": {},
   "outputs": [
    {
     "name": "stdout",
     "output_type": "stream",
     "text": [
      "Accuracy: 0.7402597402597403\n",
      "Precision: 0.6363636363636364\n",
      "Recall: 0.6363636363636364\n",
      "F1 Score: 0.6363636363636364\n"
     ]
    }
   ],
   "source": [
    "# Using the best model from hyperparameter tuning\n",
    "best_model = grid_search.best_estimator_\n",
    "\n",
    "# Predict on test data\n",
    "y_pred = best_model.predict(X_test)\n",
    "\n",
    "# Evaluate the model\n",
    "accuracy = accuracy_score(y_test, y_pred)\n",
    "precision = precision_score(y_test, y_pred)\n",
    "recall = recall_score(y_test, y_pred)\n",
    "f1 = f1_score(y_test, y_pred)\n",
    "\n",
    "# Print the evaluation metrics\n",
    "print(f\"Accuracy: {accuracy}\")\n",
    "print(f\"Precision: {precision}\")\n",
    "print(f\"Recall: {recall}\")\n",
    "print(f\"F1 Score: {f1}\")"
   ]
  },
  {
   "cell_type": "markdown",
   "id": "73f33487",
   "metadata": {},
   "source": [
    "### Step 3: Cross-Validation (Repeated from Task 5 for completeness)"
   ]
  },
  {
   "cell_type": "code",
   "execution_count": 28,
   "id": "8f26b931",
   "metadata": {},
   "outputs": [
    {
     "name": "stdout",
     "output_type": "stream",
     "text": [
      "Cross-Validation Accuracy: 0.7526695526695526\n"
     ]
    }
   ],
   "source": [
    "# Perform cross-validation for the best model\n",
    "cv_scores = cross_val_score(best_model, X_selected, y, cv=5, scoring='accuracy')\n",
    "\n",
    "# Print cross-validation results\n",
    "print(f\"Cross-Validation Accuracy: {np.mean(cv_scores)}\")"
   ]
  }
 ],
 "metadata": {
  "kernelspec": {
   "display_name": "Python 3 (ipykernel)",
   "language": "python",
   "name": "python3"
  },
  "language_info": {
   "codemirror_mode": {
    "name": "ipython",
    "version": 3
   },
   "file_extension": ".py",
   "mimetype": "text/x-python",
   "name": "python",
   "nbconvert_exporter": "python",
   "pygments_lexer": "ipython3",
   "version": "3.12.3"
  }
 },
 "nbformat": 4,
 "nbformat_minor": 5
}
